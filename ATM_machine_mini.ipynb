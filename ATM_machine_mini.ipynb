{
  "nbformat": 4,
  "nbformat_minor": 0,
  "metadata": {
    "colab": {
      "name": "ATM machine mini.ipynb",
      "provenance": [],
      "collapsed_sections": [],
      "authorship_tag": "ABX9TyPquV1T8vp2Y9ogh12jEecO",
      "include_colab_link": true
    },
    "kernelspec": {
      "name": "python3",
      "display_name": "Python 3"
    },
    "language_info": {
      "name": "python"
    }
  },
  "cells": [
    {
      "cell_type": "markdown",
      "metadata": {
        "id": "view-in-github",
        "colab_type": "text"
      },
      "source": [
        "<a href=\"https://colab.research.google.com/github/nimishp97/python3/blob/main/ATM_machine_mini.ipynb\" target=\"_parent\"><img src=\"https://colab.research.google.com/assets/colab-badge.svg\" alt=\"Open In Colab\"/></a>"
      ]
    },
    {
      "cell_type": "code",
      "execution_count": 1,
      "metadata": {
        "id": "ObKHfHv0lVFS",
        "colab": {
          "base_uri": "https://localhost:8080/"
        },
        "outputId": "970be188-a20e-4e1e-8bbd-fbf08ae6e46b"
      },
      "outputs": [
        {
          "output_type": "stream",
          "name": "stdout",
          "text": [
            "Enter your ATM pin0000\n",
            "1.withdraw\n",
            "2.balance inquiry\n",
            "choose options - 1\n",
            "Enter withdraw amount - 5000\n",
            "here is your amount -  5000\n"
          ]
        }
      ],
      "source": [
        "pin = int(input(\"Enter your ATM pin\"))\n",
        "balance = 1000000\n",
        "if(pin == 0000):\n",
        "  print('1.withdraw')\n",
        "  print('2.balance inquiry')\n",
        "  c = int(input(\"choose options - \"))\n",
        "  if(c == 1):\n",
        "     w = int(input(\"Enter withdraw amount - \"))\n",
        "     if(w<balance and w % 100 == 0):\n",
        "       print(\"here is your amount - \", w)\n",
        "     else:\n",
        "       print(\"invalid cash\")\n",
        "  elif(c == 2):\n",
        "    print(\"your present balance- \", balance)\n",
        "  else:\n",
        "    print(\"exit\")      \n",
        "\n"
      ]
    }
  ]
}